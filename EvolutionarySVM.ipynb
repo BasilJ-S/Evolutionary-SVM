{
 "cells": [
  {
   "cell_type": "markdown",
   "metadata": {},
   "source": [
    "# Evolutionary SVM Kernel Selection\n",
    "This is a basic bit of code to implement an evolutionary kernel selection for support vector machines. This is created more as a fun project than as a rigorous program, and is created without consultation with relevant literature."
   ]
  },
  {
   "cell_type": "markdown",
   "metadata": {},
   "source": [
    "## Sample Data\n",
    "As a simple sample dataset, the heart failure prediction dataset is used for the time being: https://www.kaggle.com/datasets/fedesoriano/heart-failure-prediction"
   ]
  },
  {
   "cell_type": "code",
   "execution_count": 111,
   "metadata": {},
   "outputs": [
    {
     "data": {
      "text/html": [
       "<div>\n",
       "<style scoped>\n",
       "    .dataframe tbody tr th:only-of-type {\n",
       "        vertical-align: middle;\n",
       "    }\n",
       "\n",
       "    .dataframe tbody tr th {\n",
       "        vertical-align: top;\n",
       "    }\n",
       "\n",
       "    .dataframe thead th {\n",
       "        text-align: right;\n",
       "    }\n",
       "</style>\n",
       "<table border=\"1\" class=\"dataframe\">\n",
       "  <thead>\n",
       "    <tr style=\"text-align: right;\">\n",
       "      <th></th>\n",
       "      <th>Age</th>\n",
       "      <th>RestingBP</th>\n",
       "      <th>Cholesterol</th>\n",
       "      <th>FastingBS</th>\n",
       "      <th>MaxHR</th>\n",
       "      <th>Oldpeak</th>\n",
       "      <th>HeartDisease</th>\n",
       "      <th>Sex_M</th>\n",
       "      <th>ChestPainType_ATA</th>\n",
       "      <th>ChestPainType_NAP</th>\n",
       "      <th>ChestPainType_TA</th>\n",
       "      <th>RestingECG_Normal</th>\n",
       "      <th>RestingECG_ST</th>\n",
       "      <th>ExerciseAngina_Y</th>\n",
       "      <th>ST_Slope_Flat</th>\n",
       "      <th>ST_Slope_Up</th>\n",
       "    </tr>\n",
       "  </thead>\n",
       "  <tbody>\n",
       "    <tr>\n",
       "      <th>0</th>\n",
       "      <td>40</td>\n",
       "      <td>140</td>\n",
       "      <td>289</td>\n",
       "      <td>0</td>\n",
       "      <td>172</td>\n",
       "      <td>0.0</td>\n",
       "      <td>0</td>\n",
       "      <td>1</td>\n",
       "      <td>1</td>\n",
       "      <td>0</td>\n",
       "      <td>0</td>\n",
       "      <td>1</td>\n",
       "      <td>0</td>\n",
       "      <td>0</td>\n",
       "      <td>0</td>\n",
       "      <td>1</td>\n",
       "    </tr>\n",
       "    <tr>\n",
       "      <th>1</th>\n",
       "      <td>49</td>\n",
       "      <td>160</td>\n",
       "      <td>180</td>\n",
       "      <td>0</td>\n",
       "      <td>156</td>\n",
       "      <td>1.0</td>\n",
       "      <td>1</td>\n",
       "      <td>0</td>\n",
       "      <td>0</td>\n",
       "      <td>1</td>\n",
       "      <td>0</td>\n",
       "      <td>1</td>\n",
       "      <td>0</td>\n",
       "      <td>0</td>\n",
       "      <td>1</td>\n",
       "      <td>0</td>\n",
       "    </tr>\n",
       "    <tr>\n",
       "      <th>2</th>\n",
       "      <td>37</td>\n",
       "      <td>130</td>\n",
       "      <td>283</td>\n",
       "      <td>0</td>\n",
       "      <td>98</td>\n",
       "      <td>0.0</td>\n",
       "      <td>0</td>\n",
       "      <td>1</td>\n",
       "      <td>1</td>\n",
       "      <td>0</td>\n",
       "      <td>0</td>\n",
       "      <td>0</td>\n",
       "      <td>1</td>\n",
       "      <td>0</td>\n",
       "      <td>0</td>\n",
       "      <td>1</td>\n",
       "    </tr>\n",
       "    <tr>\n",
       "      <th>3</th>\n",
       "      <td>48</td>\n",
       "      <td>138</td>\n",
       "      <td>214</td>\n",
       "      <td>0</td>\n",
       "      <td>108</td>\n",
       "      <td>1.5</td>\n",
       "      <td>1</td>\n",
       "      <td>0</td>\n",
       "      <td>0</td>\n",
       "      <td>0</td>\n",
       "      <td>0</td>\n",
       "      <td>1</td>\n",
       "      <td>0</td>\n",
       "      <td>1</td>\n",
       "      <td>1</td>\n",
       "      <td>0</td>\n",
       "    </tr>\n",
       "    <tr>\n",
       "      <th>4</th>\n",
       "      <td>54</td>\n",
       "      <td>150</td>\n",
       "      <td>195</td>\n",
       "      <td>0</td>\n",
       "      <td>122</td>\n",
       "      <td>0.0</td>\n",
       "      <td>0</td>\n",
       "      <td>1</td>\n",
       "      <td>0</td>\n",
       "      <td>1</td>\n",
       "      <td>0</td>\n",
       "      <td>1</td>\n",
       "      <td>0</td>\n",
       "      <td>0</td>\n",
       "      <td>0</td>\n",
       "      <td>1</td>\n",
       "    </tr>\n",
       "  </tbody>\n",
       "</table>\n",
       "</div>"
      ],
      "text/plain": [
       "   Age  RestingBP  Cholesterol  FastingBS  MaxHR  Oldpeak  HeartDisease  \\\n",
       "0   40        140          289          0    172      0.0             0   \n",
       "1   49        160          180          0    156      1.0             1   \n",
       "2   37        130          283          0     98      0.0             0   \n",
       "3   48        138          214          0    108      1.5             1   \n",
       "4   54        150          195          0    122      0.0             0   \n",
       "\n",
       "   Sex_M  ChestPainType_ATA  ChestPainType_NAP  ChestPainType_TA  \\\n",
       "0      1                  1                  0                 0   \n",
       "1      0                  0                  1                 0   \n",
       "2      1                  1                  0                 0   \n",
       "3      0                  0                  0                 0   \n",
       "4      1                  0                  1                 0   \n",
       "\n",
       "   RestingECG_Normal  RestingECG_ST  ExerciseAngina_Y  ST_Slope_Flat  \\\n",
       "0                  1              0                 0              0   \n",
       "1                  1              0                 0              1   \n",
       "2                  0              1                 0              0   \n",
       "3                  1              0                 1              1   \n",
       "4                  1              0                 0              0   \n",
       "\n",
       "   ST_Slope_Up  \n",
       "0            1  \n",
       "1            0  \n",
       "2            1  \n",
       "3            0  \n",
       "4            1  "
      ]
     },
     "execution_count": 111,
     "metadata": {},
     "output_type": "execute_result"
    }
   ],
   "source": [
    "import pandas as pd\n",
    "import numpy as np\n",
    "from sklearn import svm\n",
    "from sklearn.model_selection import train_test_split\n",
    "from sklearn.preprocessing import StandardScaler\n",
    "from sklearn.metrics import accuracy_score, f1_score, recall_score, precision_score, confusion_matrix, ConfusionMatrixDisplay\n",
    "import matplotlib.pyplot as plt\n",
    "from random import randint, getrandbits, choices\n",
    "\n",
    "data = pd.read_csv('./heart.csv')\n",
    "data = pd.get_dummies(data, drop_first = True, dtype = int)\n",
    "data.head()"
   ]
  },
  {
   "cell_type": "code",
   "execution_count": 112,
   "metadata": {},
   "outputs": [],
   "source": [
    "X = data.drop(['HeartDisease'], axis=1)\n",
    "Y = data['HeartDisease']\n",
    "X_train, X_test, Y_train, Y_test = train_test_split(X,Y, test_size=0.3, random_state=133)"
   ]
  },
  {
   "cell_type": "code",
   "execution_count": 113,
   "metadata": {},
   "outputs": [],
   "source": [
    "scaler = StandardScaler()\n",
    "X_train = scaler.fit_transform(X_train)\n",
    "X_test = scaler.transform(X_test)"
   ]
  },
  {
   "cell_type": "code",
   "execution_count": 114,
   "metadata": {},
   "outputs": [],
   "source": [
    "# Create a custom polynomial kernel function with modifiable coefficients\n",
    "def custom_polynomial_kernel(X, Y=None, degree=3, coef_list=None):\n",
    "    \"\"\"\n",
    "    X: First feature matrix.\n",
    "    Y: Second feature matrix (optional). If None, Y is set to X (kernel is computed on X alone).\n",
    "    degree: Degree of the polynomial.\n",
    "    coef_list: List of custom coefficients for the polynomial terms.\n",
    "    \"\"\"\n",
    "    if Y is None:\n",
    "        Y = X\n",
    "\n",
    "    # Compute the linear kernel (dot product)\n",
    "    K = np.dot(X, Y.T)\n",
    "\n",
    "    # Apply custom coefficients to polynomial terms\n",
    "    K_custom = np.zeros_like(K)\n",
    "    \n",
    "    for d in range(degree + 1):\n",
    "        coef = coef_list[d] if coef_list and d < len(coef_list) else 1\n",
    "        K_custom += coef * (K ** d)\n",
    "    \n",
    "    return K_custom"
   ]
  },
  {
   "cell_type": "markdown",
   "metadata": {},
   "source": [
    "# Evolution Process\n",
    "Here we will define the evolution process. The genome of each individual is made up of the coefficients of each degree of the polynomial."
   ]
  },
  {
   "cell_type": "markdown",
   "metadata": {},
   "source": [
    "## Initializing individuals"
   ]
  },
  {
   "cell_type": "code",
   "execution_count": 115,
   "metadata": {},
   "outputs": [
    {
     "name": "stdout",
     "output_type": "stream",
     "text": [
      "[-477, -627, -436, 406, 702, 341]\n",
      "[699, 200, 143, -909, 516, -754]\n",
      "[-363, 133, 496, 351, -704, -219]\n",
      "[-846, -131, -546, 738, -614, 945]\n",
      "[596, -46, 431, -273, -794, 573]\n",
      "[-331, -982, 457, -988, 254, -360]\n",
      "[-49, -875, -431, -167, -710, -650]\n",
      "[-957, -514, 150, 116, -197, -760]\n",
      "[214, 266, -517, 575, 9, -83]\n"
     ]
    }
   ],
   "source": [
    "num_individuals: int = 10 # Number of individuals in our population\n",
    "max_degree: int = 5 # Max degree of polynomial kernel\n",
    "max_coefficient: int = 1000 # Max coefficient (+/-) of polynomial.\n",
    "\n",
    "individuals: list[list[int]] = []\n",
    "\n",
    "for x in range(num_individuals - 1):\n",
    "    individuals.append([])\n",
    "    for y in range(max_degree + 1):\n",
    "        individuals[x].append([])\n",
    "        individuals[x][y] = randint(-max_coefficient,max_coefficient)\n",
    "    print(individuals[x])\n"
   ]
  },
  {
   "cell_type": "markdown",
   "metadata": {},
   "source": [
    "## Evolution Process Definition\n",
    "To define the fitness, we want a model that runs quickly and that is performative."
   ]
  },
  {
   "cell_type": "code",
   "execution_count": 118,
   "metadata": {},
   "outputs": [],
   "source": [
    "from time import process_time\n",
    "\n",
    "# Calculate the f1score and training time for an individual\n",
    "def calculate_individual_score(individual:list[int]) -> list[float]:\n",
    "    model = svm.SVC(kernel = lambda X, Y: custom_polynomial_kernel(X, Y, degree=max_degree, coef_list=individual))\n",
    "    start = process_time()\n",
    "    model.fit(X_train,Y_train)\n",
    "    end = process_time()\n",
    "    predictions = model.predict(X_test)\n",
    "    time = end - start\n",
    "    f1 = float(f1_score(Y_test, predictions))\n",
    "    return [time,f1]\n",
    "\n",
    "# Calculate fitness, measured as the likeelihood that the individual should reproduce, for all individuals.\n",
    "def calculate_fitness(individuals: list[list[int]]) -> list[float]:\n",
    "    scores: list[list[float]] = []\n",
    "    fitness: list[float] = []\n",
    "    f1_max = 0\n",
    "\n",
    "    time_total: float = 0\n",
    "    f1_total: float = 0\n",
    "    for x in individuals:\n",
    "        score = calculate_individual_score(x)\n",
    "        scores.append(score)\n",
    "        time_total += score[0]\n",
    "        f1_total += score[1]\n",
    "    \n",
    "    for x in scores:\n",
    "        time_score = x[0]/time_total\n",
    "        f1_score = x[1]/f1_total\n",
    "        if f1_score > f1_max: f1_max = f1_score\n",
    "        fitness.append(0.7 * f1_score + 0.3 * time_score) # Make the overall score 70% from performance, 30% from time\n",
    "    \n",
    "    print(f1_max)\n",
    "    return(fitness)    \n",
    "\n",
    "def offspring(mates:list[list[int]]) -> list[int]:\n",
    "    new_individual = []\n",
    "    for x in range(max_degree + 1):\n",
    "        if (randint(0,100) < 10): # 10% chance of mutation to a random new integer\n",
    "            new_individual.append(randint(0,100))\n",
    "        elif (getrandbits(1)):\n",
    "            new_individual.append(mates[0][x])\n",
    "        else:\n",
    "            new_individual.append(mates[1][x])\n",
    "    \n",
    "    return new_individual\n",
    "        \n",
    "\n",
    "def generate_new_population(individuals:list[list[int]]) -> dict[list[list[int]], float]:\n",
    "    fitness = calculate_fitness(individuals)\n",
    "    new_population: list[list[int]] = []\n",
    "\n",
    "    for x in range(num_individuals - 1):\n",
    "        mates: list[list[int]] = choices(individuals, weights=fitness, k=2)\n",
    "        new_population.append(offspring(mates))\n",
    "    return {\"population\": new_population, \"fitness\": max(fitness)}\n"
   ]
  },
  {
   "cell_type": "markdown",
   "metadata": {},
   "source": [
    "## Evolution Loop"
   ]
  },
  {
   "cell_type": "code",
   "execution_count": 120,
   "metadata": {},
   "outputs": [
    {
     "name": "stdout",
     "output_type": "stream",
     "text": [
      "0.11323010195025564\n",
      "0.1127095951805956\n",
      "0.11310102059603165\n",
      "0.11121938013511982\n",
      "0.11115775788518573\n",
      "0.11161584292343144\n",
      "0.11170877392874264\n",
      "0.11161584292343144\n",
      "0.11306264073245277\n",
      "0.11264007902829488\n"
     ]
    },
    {
     "data": {
      "image/png": "[encoded data removed]",
      "text/plain": [
       "<Figure size 640x480 with 1 Axes>"
      ]
     },
     "metadata": {},
     "output_type": "display_data"
    }
   ],
   "source": [
    "import matplotlib.pyplot as plt\n",
    "\n",
    "\n",
    "fitnesses: list[float] = []\n",
    "for x in range(10):\n",
    "    evolution = generate_new_population(individuals)\n",
    "    individuals = evolution[\"population\"]\n",
    "    fitnesses.append(evolution[\"fitness\"])\n",
    "    \n",
    "# Plot the fitness values\n",
    "plt.plot(range(10), fitnesses, label=\"Fitness per iteration\")\n",
    "plt.xlabel(\"Iteration\")\n",
    "plt.ylabel(\"Fitness\")\n",
    "plt.title(\"Fitness Evolution Over Iterations\")\n",
    "plt.legend()\n",
    "plt.show()"
   ]
  },
  {
   "cell_type": "code",
   "execution_count": 57,
   "metadata": {},
   "outputs": [
    {
     "name": "stdout",
     "output_type": "stream",
     "text": [
      "[[-11, 11, -43, 18, -46], [-26, -35, -18, -86, 44], [74, 53, -18, -95, 46], [72, -23, 68, -62, 52], [-26, 12, 32, -86, -85], [-85, -35, -18, 18, 46], [77, 51, 32, 66, 94], [93, 69, 37, 2, 88], [14, 69, 10, -95, -65]]\n"
     ]
    }
   ],
   "source": [
    "print(generate_new_population(individuals))\n",
    "\n"
   ]
  },
  {
   "cell_type": "code",
   "execution_count": 31,
   "metadata": {},
   "outputs": [
    {
     "name": "stdout",
     "output_type": "stream",
     "text": [
      "Accuracy is 0.8152173913043478, Precision is 0.8445945945945946, Recall is 0.8169934640522876\n"
     ]
    }
   ],
   "source": [
    "model = svm.SVC(kernel = lambda X, Y: custom_polynomial_kernel(X, Y, degree=2, coef_list=[10,100,1]))\n",
    "model.fit(X_train,Y_train)\n",
    "predictions = model.predict(X_test)\n",
    "print(f'Accuracy is {accuracy_score(Y_test, predictions)}, Precision is {precision_score(Y_test, predictions)}, Recall is {recall_score(Y_test, predictions)}')"
   ]
  },
  {
   "cell_type": "code",
   "execution_count": 112,
   "metadata": {},
   "outputs": [
    {
     "data": {
      "image/png": "[encoded data removed]",
      "text/plain": [
       "<Figure size 640x480 with 2 Axes>"
      ]
     },
     "metadata": {},
     "output_type": "display_data"
    }
   ],
   "source": [
    "confusion_matrix = confusion_matrix(Y_test, predictions)\n",
    "\n",
    "cm_display = ConfusionMatrixDisplay(confusion_matrix = confusion_matrix, display_labels = [0, 1])\n",
    "\n",
    "cm_display.plot()\n",
    "plt.show()"
   ]
  }
 ],
 "metadata": {
  "kernelspec": {
   "display_name": "Python 3",
   "language": "python",
   "name": "python3"
  },
  "language_info": {
   "codemirror_mode": {
    "name": "ipython",
    "version": 3
   },
   "file_extension": ".py",
   "mimetype": "text/x-python",
   "name": "python",
   "nbconvert_exporter": "python",
   "pygments_lexer": "ipython3",
   "version": "3.12.6"
  }
 },
 "nbformat": 4,
 "nbformat_minor": 2
}
